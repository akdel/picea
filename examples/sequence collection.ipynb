{
 "cells": [
  {
   "cell_type": "code",
   "execution_count": 1,
   "metadata": {},
   "outputs": [
    {
     "data": {
      "text/plain": [
       "('0.0.3_beta1', <module 'picea' from '../picea/__init__.py'>)"
      ]
     },
     "execution_count": 1,
     "metadata": {},
     "output_type": "execute_result"
    }
   ],
   "source": [
    "import sys\n",
    "sys.path.insert(0, '../')\n",
    "import picea\n",
    "picea.__version__,picea"
   ]
  },
  {
   "cell_type": "code",
   "execution_count": 2,
   "metadata": {},
   "outputs": [],
   "source": [
    "from picea import SequenceCollection"
   ]
  },
  {
   "cell_type": "code",
   "execution_count": 3,
   "metadata": {},
   "outputs": [
    {
     "name": "stderr",
     "output_type": "stream",
     "text": [
      "../picea/sequence.py:40: UserWarning: Turning duplicate header \"s\" into unique header\n",
      "  warn(f'Turning duplicate header \"{header}\" into unique header')\n"
     ]
    },
    {
     "data": {
      "text/plain": [
       "<picea.sequence.SequenceCollection at 0x10cbc22d0>"
      ]
     },
     "execution_count": 3,
     "metadata": {},
     "output_type": "execute_result"
    }
   ],
   "source": [
    "s = SequenceCollection()\n",
    "\n",
    "seq1 = 'ACGTAGCAG'\n",
    "seq2 = 'CCGTCGCAGA'\n",
    "seq3 = 'ACGTAG-CA'\n",
    "\n",
    "for seq in [seq1,seq2,seq3]:\n",
    "    s['s'] = seq\n",
    "s"
   ]
  },
  {
   "cell_type": "code",
   "execution_count": 4,
   "metadata": {},
   "outputs": [
    {
     "data": {
      "text/plain": [
       "['s', 's_1', 's_2']"
      ]
     },
     "execution_count": 4,
     "metadata": {},
     "output_type": "execute_result"
    }
   ],
   "source": [
    "s.headers"
   ]
  },
  {
   "cell_type": "code",
   "execution_count": 5,
   "metadata": {},
   "outputs": [
    {
     "data": {
      "text/plain": [
       "['ACGTAGCAG', 'CCGTCGCAGA', 'ACGTAG-CA']"
      ]
     },
     "execution_count": 5,
     "metadata": {},
     "output_type": "execute_result"
    }
   ],
   "source": [
    "s.sequences"
   ]
  },
  {
   "cell_type": "code",
   "execution_count": 6,
   "metadata": {},
   "outputs": [
    {
     "data": {
      "text/plain": [
       "['ACGTAGCAG', 'CCGTCGCAGA', 'ACGTAG-CA']"
      ]
     },
     "execution_count": 6,
     "metadata": {},
     "output_type": "execute_result"
    }
   ],
   "source": [
    "s.is_aligned = False\n",
    "s.sequences"
   ]
  },
  {
   "cell_type": "code",
   "execution_count": 7,
   "metadata": {},
   "outputs": [
    {
     "data": {
      "text/plain": [
       "(['s', 's1'],\n",
       " ['ACGT', 'ajscjasc'],\n",
       " array([[ 65,  67,  71,  84,  45,  45,  45,  45],\n",
       "        [ 97, 106, 115,  99, 106,  97, 115,  99]], dtype=uint8))"
      ]
     },
     "execution_count": 7,
     "metadata": {},
     "output_type": "execute_result"
    }
   ],
   "source": [
    "s = SequenceCollection.from_fasta(string='>s\\nACGT\\n>s1\\najscjasc')\n",
    "s.headers,s.sequences,s._collection"
   ]
  },
  {
   "cell_type": "code",
   "execution_count": 9,
   "metadata": {},
   "outputs": [
    {
     "name": "stdout",
     "output_type": "stream",
     "text": [
      "['s1'] ['akj'] [[ 97 107 106]]\n",
      "['s1', 's2'] ['akj', 'ashdajsdlajsjdljkasldjlasjkd'] [[ 97 107 106  45  45  45  45  45  45  45  45  45  45  45  45  45  45  45\n",
      "   45  45  45  45  45  45  45  45  45  45]\n",
      " [ 97 115 104 100  97 106 115 100 108  97 106 115 106 100 108 106 107  97\n",
      "  115 108 100 106 108  97 115 106 107 100]]\n"
     ]
    }
   ],
   "source": [
    "s = SequenceCollection()\n",
    "s['s1'] = 'akj'\n",
    "print(s.headers,s.sequences,s._collection)\n",
    "s['s2'] = 'ashdajsdlajsjdljkasldjlasjkd'\n",
    "print(s.headers,s.sequences,s._collection)"
   ]
  },
  {
   "cell_type": "code",
   "execution_count": 10,
   "metadata": {},
   "outputs": [
    {
     "data": {
      "text/plain": [
       "True"
      ]
     },
     "execution_count": 10,
     "metadata": {},
     "output_type": "execute_result"
    }
   ],
   "source": [
    "fasta = '>A\\nABC\\n>B\\nDEF'\n",
    "seq = SequenceCollection.from_fasta(string=fasta)\n",
    "seq.to_fasta() == fasta"
   ]
  }
 ],
 "metadata": {
  "kernelspec": {
   "display_name": "py37",
   "language": "python",
   "name": "py37"
  },
  "language_info": {
   "codemirror_mode": {
    "name": "ipython",
    "version": 3
   },
   "file_extension": ".py",
   "mimetype": "text/x-python",
   "name": "python",
   "nbconvert_exporter": "python",
   "pygments_lexer": "ipython3",
   "version": "3.7.6"
  }
 },
 "nbformat": 4,
 "nbformat_minor": 4
}
