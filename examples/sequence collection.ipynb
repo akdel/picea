{
 "cells": [
  {
   "cell_type": "code",
   "execution_count": 1,
   "metadata": {},
   "outputs": [
    {
     "data": {
      "text/plain": [
       "('0.0.3_beta1', <module 'picea' from '../picea/__init__.py'>)"
      ]
     },
     "execution_count": 1,
     "metadata": {},
     "output_type": "execute_result"
    }
   ],
   "source": [
    "import sys\n",
    "sys.path.insert(0, '../')\n",
    "import picea\n",
    "picea.__version__,picea"
   ]
  },
  {
   "cell_type": "code",
   "execution_count": 2,
   "metadata": {},
   "outputs": [],
   "source": [
    "import numpy as np\n",
    "from matplotlib import pyplot as plt\n",
    "from picea import SequenceCollection"
   ]
  },
  {
   "cell_type": "code",
   "execution_count": 62,
   "metadata": {},
   "outputs": [
    {
     "name": "stderr",
     "output_type": "stream",
     "text": [
      "../picea/sequence.py:107: UserWarning: Turning duplicate header \"s\" into unique header\n",
      "  warn(f'Turning duplicate header \"{header}\" into unique header')\n"
     ]
    },
    {
     "data": {
      "text/plain": [
       "<picea.sequence.SequenceCollection at 0x1196d1cd0>"
      ]
     },
     "execution_count": 62,
     "metadata": {},
     "output_type": "execute_result"
    }
   ],
   "source": [
    "s = SequenceCollection()\n",
    "\n",
    "seq1 = 'ACGTAGCAG'\n",
    "seq2 = 'CCGTCGCAGA'\n",
    "seq3 = 'ACGTAG-CA'\n",
    "\n",
    "for seq in [seq1,seq2,seq3]:\n",
    "    s['s'] = seq\n",
    "s"
   ]
  },
  {
   "cell_type": "code",
   "execution_count": 63,
   "metadata": {},
   "outputs": [
    {
     "data": {
      "text/plain": [
       "['s', 's_1', 's_2']"
      ]
     },
     "execution_count": 63,
     "metadata": {},
     "output_type": "execute_result"
    }
   ],
   "source": [
    "s.headers"
   ]
  },
  {
   "cell_type": "code",
   "execution_count": 65,
   "metadata": {},
   "outputs": [
    {
     "ename": "AttributeError",
     "evalue": "__delitem__",
     "output_type": "error",
     "traceback": [
      "\u001b[0;31m---------------------------------------------------------------------------\u001b[0m",
      "\u001b[0;31mAttributeError\u001b[0m                            Traceback (most recent call last)",
      "\u001b[0;32m<ipython-input-65-352fcd714b89>\u001b[0m in \u001b[0;36m<module>\u001b[0;34m\u001b[0m\n\u001b[0;32m----> 1\u001b[0;31m \u001b[0;32mdel\u001b[0m \u001b[0ms\u001b[0m\u001b[0;34m[\u001b[0m\u001b[0;34m's'\u001b[0m\u001b[0;34m]\u001b[0m\u001b[0;34m\u001b[0m\u001b[0;34m\u001b[0m\u001b[0m\n\u001b[0m",
      "\u001b[0;31mAttributeError\u001b[0m: __delitem__"
     ]
    }
   ],
   "source": [
    "del s['s']"
   ]
  },
  {
   "cell_type": "code",
   "execution_count": 68,
   "metadata": {},
   "outputs": [
    {
     "ename": "KeyError",
     "evalue": "'c'",
     "output_type": "error",
     "traceback": [
      "\u001b[0;31m---------------------------------------------------------------------------\u001b[0m",
      "\u001b[0;31mKeyError\u001b[0m                                  Traceback (most recent call last)",
      "\u001b[0;32m<ipython-input-68-7bf43eb1ebd6>\u001b[0m in \u001b[0;36m<module>\u001b[0;34m\u001b[0m\n\u001b[1;32m      1\u001b[0m \u001b[0ma\u001b[0m \u001b[0;34m=\u001b[0m \u001b[0mdict\u001b[0m\u001b[0;34m(\u001b[0m\u001b[0ma\u001b[0m\u001b[0;34m=\u001b[0m\u001b[0;36m1\u001b[0m\u001b[0;34m,\u001b[0m \u001b[0mb\u001b[0m\u001b[0;34m=\u001b[0m\u001b[0;36m2\u001b[0m\u001b[0;34m)\u001b[0m\u001b[0;34m\u001b[0m\u001b[0;34m\u001b[0m\u001b[0m\n\u001b[0;32m----> 2\u001b[0;31m \u001b[0ma\u001b[0m\u001b[0;34m[\u001b[0m\u001b[0;34m'c'\u001b[0m\u001b[0;34m]\u001b[0m\u001b[0;34m\u001b[0m\u001b[0;34m\u001b[0m\u001b[0m\n\u001b[0m",
      "\u001b[0;31mKeyError\u001b[0m: 'c'"
     ]
    }
   ],
   "source": [
    "a = dict(a=1, b=2)\n",
    "a['c']"
   ]
  },
  {
   "cell_type": "code",
   "execution_count": 74,
   "metadata": {},
   "outputs": [
    {
     "data": {
      "text/plain": [
       "array([[3, 4, 5]])"
      ]
     },
     "execution_count": 74,
     "metadata": {},
     "output_type": "execute_result"
    }
   ],
   "source": [
    "a = np.array([\n",
    "    [1,2,3],\n",
    "    [3,4,5]\n",
    "])\n",
    "\n",
    "np.delete(a, 0, axis=0)"
   ]
  },
  {
   "cell_type": "code",
   "execution_count": 5,
   "metadata": {},
   "outputs": [
    {
     "data": {
      "text/plain": [
       "[(45, 'black'),\n",
       " (65, 'green'),\n",
       " (67, 'red'),\n",
       " (71, 'blue'),\n",
       " (78, 'gray'),\n",
       " (84, 'darkorange'),\n",
       " (97, 'green'),\n",
       " (99, 'red'),\n",
       " (103, 'blue'),\n",
       " (110, 'gray'),\n",
       " (116, 'darkorange')]"
      ]
     },
     "execution_count": 5,
     "metadata": {},
     "output_type": "execute_result"
    }
   ],
   "source": [
    "from matplotlib.colors import ListedColormap, BoundaryNorm\n",
    "\n",
    "codes = np.array([*b'AaCcGgNnTt-'], dtype='uint8')\n",
    "colors = np.array([\n",
    "    *['green'] * 2,\n",
    "    *['red'] * 2,\n",
    "    *['blue'] * 2,\n",
    "    *['gray'] * 2,\n",
    "    *['darkorange'] * 2,\n",
    "    'black'\n",
    "])\n",
    "\n",
    "order = np.argsort(codes) \n",
    "list(zip(codes[order],\n",
    "colors[order]))\n",
    "\n"
   ]
  },
  {
   "cell_type": "code",
   "execution_count": 6,
   "metadata": {},
   "outputs": [
    {
     "data": {
      "text/plain": [
       "<matplotlib.image.AxesImage at 0x117fc3e50>"
      ]
     },
     "execution_count": 6,
     "metadata": {},
     "output_type": "execute_result"
    },
    {
     "data": {
      "image/png": "[encoded data removed]",
      "text/plain": [
       "<matplotlib.figure.Figure at 0x117cfeb90>"
      ]
     },
     "metadata": {
      "needs_background": "light"
     },
     "output_type": "display_data"
    }
   ],
   "source": [
    "cmap = ListedColormap(colors[order])\n",
    "norm = BoundaryNorm([0,*codes[order]], ncolors=codes.size)\n",
    "\n",
    "plt.imshow(norm(s._collection), cmap='jet')"
   ]
  },
  {
   "cell_type": "code",
   "execution_count": 36,
   "metadata": {},
   "outputs": [],
   "source": [
    "import wget \n",
    "fasta_file = wget.download('https://molb7621.github.io/workshop/_downloads/sample.fa')\n",
    "seq = SequenceCollection.from_fasta(filename=fasta_file)\n",
    "seq_aligned = seq.align()"
   ]
  },
  {
   "cell_type": "code",
   "execution_count": 43,
   "metadata": {},
   "outputs": [
    {
     "data": {
      "text/plain": [
       "<matplotlib.axes._subplots.AxesSubplot at 0x119b14ad0>"
      ]
     },
     "execution_count": 43,
     "metadata": {},
     "output_type": "execute_result"
    },
    {
     "data": {
      "image/png": "[encoded data removed]",
      "text/plain": [
       "<matplotlib.figure.Figure at 0x118731950>"
      ]
     },
     "metadata": {
      "needs_background": "light"
     },
     "output_type": "display_data"
    }
   ],
   "source": [
    "picea.msa_plot(seq_aligned)"
   ]
  },
  {
   "cell_type": "code",
   "execution_count": 41,
   "metadata": {},
   "outputs": [
    {
     "data": {
      "text/plain": [
       "array([[b'A', b'C', b'T', b'G', b'A', b'C', b'T', b'A', b'G', b'C', b'T',\n",
       "        b'A', b'G', b'C', b'T', b'A', b'A', b'C', b'T', b'G'],\n",
       "       [b'G', b'C', b'A', b'T', b'C', b'G', b'T', b'A', b'G', b'C', b'T',\n",
       "        b'A', b'G', b'C', b'T', b'A', b'C', b'G', b'A', b'T'],\n",
       "       [b'C', b'A', b'T', b'C', b'G', b'A', b'T', b'C', b'G', b'T', b'A',\n",
       "        b'C', b'G', b'T', b'A', b'C', b'G', b'T', b'A', b'G'],\n",
       "       [b'A', b'T', b'C', b'G', b'A', b'T', b'C', b'G', b'A', b'T', b'C',\n",
       "        b'G', b'T', b'A', b'C', b'G', b'A', b'T', b'C', b'G']],\n",
       "      dtype='|S1')"
      ]
     },
     "execution_count": 41,
     "metadata": {},
     "output_type": "execute_result"
    }
   ],
   "source": [
    "seq._collection.view('S1')"
   ]
  },
  {
   "cell_type": "code",
   "execution_count": 54,
   "metadata": {},
   "outputs": [
    {
     "data": {
      "image/png": "[encoded data removed]",
      "text/plain": [
       "<matplotlib.figure.Figure at 0x11960ae90>"
      ]
     },
     "metadata": {
      "needs_background": "light"
     },
     "output_type": "display_data"
    }
   ],
   "source": [
    "fig,ax = plt.subplots(figsize=(10, 2))\n",
    "ax.imshow(norm(seq_aligned._collection), cmap='jet', aspect='auto')\n",
    "for i in range(seq_aligned.n_chars):\n",
    "    for j in range(seq_aligned.n_seqs):\n",
    "        #ax.text(i,j,seq_aligned._collection.view('S1')[j,i].decode(),\n",
    "        #       ha=\"center\", va=\"center\", color=\"w\")\n",
    "        pass\n",
    "ax.set_yticks(np.arange(seq_aligned.n_seqs))\n",
    "ax.set_yticklabels(seq_aligned.headers)\n",
    "None  "
   ]
  },
  {
   "cell_type": "code",
   "execution_count": 10,
   "metadata": {},
   "outputs": [
    {
     "data": {
      "text/plain": [
       "['acgtagcag-', 'ccgtcgcaga', 'acgtagca--']"
      ]
     },
     "execution_count": 10,
     "metadata": {},
     "output_type": "execute_result"
    }
   ],
   "source": [
    "s.sequences"
   ]
  },
  {
   "cell_type": "code",
   "execution_count": 11,
   "metadata": {},
   "outputs": [
    {
     "data": {
      "text/plain": [
       "(['s', 's1'],\n",
       " ['ACGT', 'ajscjasc'],\n",
       " array([[ 65,  67,  71,  84,  45,  45,  45,  45],\n",
       "        [ 97, 106, 115,  99, 106,  97, 115,  99]], dtype=uint8))"
      ]
     },
     "execution_count": 11,
     "metadata": {},
     "output_type": "execute_result"
    }
   ],
   "source": [
    "s = SequenceCollection.from_fasta(string='>s\\nACGT\\n>s1\\najscjasc')\n",
    "s.headers,s.sequences,s._collection"
   ]
  },
  {
   "cell_type": "code",
   "execution_count": 12,
   "metadata": {},
   "outputs": [
    {
     "name": "stdout",
     "output_type": "stream",
     "text": [
      "['s1'] ['akj'] [[ 97 107 106]]\n",
      "['s1', 's2'] ['akj', 'ashdajsdlajsjdljkasldjlasjkd'] [[ 97 107 106  45  45  45  45  45  45  45  45  45  45  45  45  45  45  45\n",
      "   45  45  45  45  45  45  45  45  45  45]\n",
      " [ 97 115 104 100  97 106 115 100 108  97 106 115 106 100 108 106 107  97\n",
      "  115 108 100 106 108  97 115 106 107 100]]\n"
     ]
    }
   ],
   "source": [
    "s = SequenceCollection()\n",
    "s['s1'] = 'akj'\n",
    "print(s.headers,s.sequences,s._collection)\n",
    "s['s2'] = 'ashdajsdlajsjdljkasldjlasjkd'\n",
    "print(s.headers,s.sequences,s._collection)"
   ]
  },
  {
   "cell_type": "code",
   "execution_count": 13,
   "metadata": {},
   "outputs": [
    {
     "data": {
      "text/plain": [
       "True"
      ]
     },
     "execution_count": 13,
     "metadata": {},
     "output_type": "execute_result"
    }
   ],
   "source": [
    "fasta = '>A\\nABC\\n>B\\nDEF'\n",
    "seq = SequenceCollection.from_fasta(string=fasta)\n",
    "seq.to_fasta() == fasta"
   ]
  },
  {
   "cell_type": "code",
   "execution_count": 59,
   "metadata": {},
   "outputs": [
    {
     "data": {
      "text/plain": [
       "array([[b'B', b'D', b'U', b'H', b'B', b'D', b'U', b'B', b'H', b'D', b'U',\n",
       "        b'B', b'H', b'D', b'U', b'B', b'B', b'D', b'U', b'H'],\n",
       "       [b'H', b'D', b'B', b'U', b'D', b'H', b'U', b'B', b'H', b'D', b'U',\n",
       "        b'B', b'H', b'D', b'U', b'B', b'D', b'H', b'B', b'U'],\n",
       "       [b'D', b'B', b'U', b'D', b'H', b'B', b'U', b'D', b'H', b'U', b'B',\n",
       "        b'D', b'H', b'U', b'B', b'D', b'H', b'U', b'B', b'H'],\n",
       "       [b'B', b'U', b'D', b'H', b'B', b'U', b'D', b'H', b'B', b'U', b'D',\n",
       "        b'H', b'U', b'B', b'D', b'H', b'B', b'U', b'D', b'H']],\n",
       "      dtype='|S1')"
      ]
     },
     "execution_count": 59,
     "metadata": {},
     "output_type": "execute_result"
    }
   ],
   "source": [
    "(seq._collection + 1).view('S1')"
   ]
  },
  {
   "cell_type": "code",
   "execution_count": 61,
   "metadata": {},
   "outputs": [
    {
     "data": {
      "text/plain": [
       "['b', 'c']"
      ]
     },
     "execution_count": 61,
     "metadata": {},
     "output_type": "execute_result"
    }
   ],
   "source": [
    "a = ['a', 'b', 'c']\n",
    "del a[0]\n",
    "a"
   ]
  },
  {
   "cell_type": "code",
   "execution_count": null,
   "metadata": {},
   "outputs": [],
   "source": [
    "from matplotlib import pyplot as plt\n",
    "plt.imshow(s._collection)"
   ]
  },
  {
   "cell_type": "code",
   "execution_count": null,
   "metadata": {},
   "outputs": [],
   "source": [
    "a = {'a': 1, 'c': 3}\n",
    "b = {'a': 2, 'b': 2}\n",
    "{**a, **b}\n",
    "a.update(b)\n",
    "a"
   ]
  }
 ],
 "metadata": {
  "kernelspec": {
   "display_name": "py37",
   "language": "python",
   "name": "py37"
  },
  "language_info": {
   "codemirror_mode": {
    "name": "ipython",
    "version": 3
   },
   "file_extension": ".py",
   "mimetype": "text/x-python",
   "name": "python",
   "nbconvert_exporter": "python",
   "pygments_lexer": "ipython3",
   "version": "3.7.6"
  }
 },
 "nbformat": 4,
 "nbformat_minor": 4
}
